{
 "cells": [
  {
   "cell_type": "code",
   "execution_count": 1,
   "id": "692eb068",
   "metadata": {},
   "outputs": [],
   "source": [
    "from pyspark.sql import SparkSession\n",
    "import getpass\n",
    "username = getpass.getuser()\n",
    "spark = SparkSession. \\\n",
    "builder. \\\n",
    "config('spark.ui.port', '0'). \\\n",
    "config(\"spark.sql.warehouse.dir\", f\"/user/{username}/warehouse\"). \\\n",
    "enableHiveSupport(). \\\n",
    "master('yarn'). \\\n",
    "getOrCreate()"
   ]
  },
  {
   "cell_type": "code",
   "execution_count": 3,
   "id": "8fa9aec6",
   "metadata": {},
   "outputs": [
    {
     "data": {
      "text/html": [
       "\n",
       "            <div>\n",
       "                <p><b>SparkSession - hive</b></p>\n",
       "                \n",
       "        <div>\n",
       "            <p><b>SparkContext</b></p>\n",
       "\n",
       "            <p><a href=\"http://g01.itversity.com:40399\">Spark UI</a></p>\n",
       "\n",
       "            <dl>\n",
       "              <dt>Version</dt>\n",
       "                <dd><code>v3.1.2</code></dd>\n",
       "              <dt>Master</dt>\n",
       "                <dd><code>yarn</code></dd>\n",
       "              <dt>AppName</dt>\n",
       "                <dd><code>pyspark-shell</code></dd>\n",
       "            </dl>\n",
       "        </div>\n",
       "        \n",
       "            </div>\n",
       "        "
      ],
      "text/plain": [
       "<pyspark.sql.session.SparkSession at 0x7effacb274e0>"
      ]
     },
     "execution_count": 3,
     "metadata": {},
     "output_type": "execute_result"
    }
   ],
   "source": [
    "spark"
   ]
  },
  {
   "cell_type": "code",
   "execution_count": 17,
   "id": "f8222feb",
   "metadata": {},
   "outputs": [],
   "source": [
    "words=(\"big\",\"data\",\"is\",\"Trending\",\"Technology\",\"is\")"
   ]
  },
  {
   "cell_type": "code",
   "execution_count": 18,
   "id": "389daedc",
   "metadata": {},
   "outputs": [],
   "source": [
    "words_rdd=spark.sparkContext.parallelize(words)"
   ]
  },
  {
   "cell_type": "code",
   "execution_count": 19,
   "id": "c8bfc6d4",
   "metadata": {},
   "outputs": [
    {
     "data": {
      "text/plain": [
       "['big', 'data', 'is', 'Trending', 'Technology', 'is']"
      ]
     },
     "execution_count": 19,
     "metadata": {},
     "output_type": "execute_result"
    }
   ],
   "source": [
    "words_rdd.collect()"
   ]
  },
  {
   "cell_type": "code",
   "execution_count": 20,
   "id": "453de996",
   "metadata": {},
   "outputs": [],
   "source": [
    "words_normalized=words_rdd.map(lambda x: x.lower())"
   ]
  },
  {
   "cell_type": "code",
   "execution_count": 21,
   "id": "0da56a6d",
   "metadata": {},
   "outputs": [
    {
     "data": {
      "text/plain": [
       "['big', 'data', 'is', 'trending', 'technology', 'is']"
      ]
     },
     "execution_count": 21,
     "metadata": {},
     "output_type": "execute_result"
    }
   ],
   "source": [
    "words_normalized.collect()"
   ]
  },
  {
   "cell_type": "code",
   "execution_count": 22,
   "id": "fda3aac7",
   "metadata": {},
   "outputs": [],
   "source": [
    "mapped_words=words_normalized.map(lambda x:(x,1))"
   ]
  },
  {
   "cell_type": "code",
   "execution_count": 23,
   "id": "2d07e1a2",
   "metadata": {},
   "outputs": [
    {
     "data": {
      "text/plain": [
       "[('big', 1),\n",
       " ('data', 1),\n",
       " ('is', 1),\n",
       " ('trending', 1),\n",
       " ('technology', 1),\n",
       " ('is', 1)]"
      ]
     },
     "execution_count": 23,
     "metadata": {},
     "output_type": "execute_result"
    }
   ],
   "source": [
    "mapped_words.collect()"
   ]
  },
  {
   "cell_type": "code",
   "execution_count": 25,
   "id": "9c6ae1c6",
   "metadata": {},
   "outputs": [],
   "source": [
    "aggregated_result=mapped_words.reduceByKey(lambda x,y : x+y)"
   ]
  },
  {
   "cell_type": "code",
   "execution_count": 26,
   "id": "ab4dfca4",
   "metadata": {},
   "outputs": [
    {
     "data": {
      "text/plain": [
       "[('is', 2), ('trending', 1), ('technology', 1), ('big', 1), ('data', 1)]"
      ]
     },
     "execution_count": 26,
     "metadata": {},
     "output_type": "execute_result"
    }
   ],
   "source": [
    "aggregated_result.collect()"
   ]
  },
  {
   "cell_type": "code",
   "execution_count": 27,
   "id": "7a4f02bb",
   "metadata": {},
   "outputs": [
    {
     "data": {
      "text/plain": [
       "[('is', 2), ('trending', 1), ('technology', 1), ('big', 1), ('data', 1)]"
      ]
     },
     "execution_count": 27,
     "metadata": {},
     "output_type": "execute_result"
    }
   ],
   "source": [
    "result= spark. \\\n",
    "sparkContext. \\\n",
    "parallelize(words). \\\n",
    "map(lambda x: x.lower()). \\\n",
    "map(lambda x:(x,1)). \\\n",
    "reduceByKey(lambda x,y : x+y). \\\n",
    "collect()"
   ]
  },
  {
   "cell_type": "code",
   "execution_count": null,
   "id": "acffb6fc",
   "metadata": {},
   "outputs": [],
   "source": []
  }
 ],
 "metadata": {
  "kernelspec": {
   "display_name": "Pyspark 3",
   "language": "python",
   "name": "pyspark3"
  },
  "language_info": {
   "codemirror_mode": {
    "name": "ipython",
    "version": 3
   },
   "file_extension": ".py",
   "mimetype": "text/x-python",
   "name": "python",
   "nbconvert_exporter": "python",
   "pygments_lexer": "ipython3",
   "version": "3.6.12"
  }
 },
 "nbformat": 4,
 "nbformat_minor": 5
}
