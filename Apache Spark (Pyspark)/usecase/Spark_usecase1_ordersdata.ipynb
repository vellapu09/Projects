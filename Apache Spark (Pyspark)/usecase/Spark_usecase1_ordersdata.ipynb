{
 "cells": [
  {
   "cell_type": "code",
   "execution_count": 1,
   "id": "f8a838fa",
   "metadata": {},
   "outputs": [],
   "source": [
    "from pyspark.sql import SparkSession\n",
    "import getpass\n",
    "username = getpass.getuser()\n",
    "spark = SparkSession. \\\n",
    "builder. \\\n",
    "config('spark.ui.port', '0'). \\\n",
    "config(\"spark.sql.warehouse.dir\", f\"/user/{username}/warehouse\"). \\\n",
    "enableHiveSupport(). \\\n",
    "master('yarn'). \\\n",
    "getOrCreate()"
   ]
  },
  {
   "cell_type": "code",
   "execution_count": 2,
   "id": "b68ff2a9",
   "metadata": {},
   "outputs": [
    {
     "data": {
      "text/html": [
       "\n",
       "            <div>\n",
       "                <p><b>SparkSession - hive</b></p>\n",
       "                \n",
       "        <div>\n",
       "            <p><b>SparkContext</b></p>\n",
       "\n",
       "            <p><a href=\"http://g01.itversity.com:38293\">Spark UI</a></p>\n",
       "\n",
       "            <dl>\n",
       "              <dt>Version</dt>\n",
       "                <dd><code>v3.1.2</code></dd>\n",
       "              <dt>Master</dt>\n",
       "                <dd><code>yarn</code></dd>\n",
       "              <dt>AppName</dt>\n",
       "                <dd><code>pyspark-shell</code></dd>\n",
       "            </dl>\n",
       "        </div>\n",
       "        \n",
       "            </div>\n",
       "        "
      ],
      "text/plain": [
       "<pyspark.sql.session.SparkSession at 0x7f70275174e0>"
      ]
     },
     "execution_count": 2,
     "metadata": {},
     "output_type": "execute_result"
    }
   ],
   "source": [
    "spark"
   ]
  },
  {
   "cell_type": "code",
   "execution_count": 3,
   "id": "8e2a368c",
   "metadata": {},
   "outputs": [],
   "source": [
    "orders_rdd = spark.sparkContext.textFile(\"/public/trendytech/retail_db/orders/*\")"
   ]
  },
  {
   "cell_type": "code",
   "execution_count": 4,
   "id": "3d781f2e",
   "metadata": {},
   "outputs": [
    {
     "data": {
      "text/plain": [
       "['1,2013-07-25 00:00:00.0,11599,CLOSED',\n",
       " '2,2013-07-25 00:00:00.0,256,PENDING_PAYMENT',\n",
       " '3,2013-07-25 00:00:00.0,12111,COMPLETE',\n",
       " '4,2013-07-25 00:00:00.0,8827,CLOSED',\n",
       " '5,2013-07-25 00:00:00.0,11318,COMPLETE']"
      ]
     },
     "execution_count": 4,
     "metadata": {},
     "output_type": "execute_result"
    }
   ],
   "source": [
    "orders_rdd.take(5)"
   ]
  },
  {
   "cell_type": "markdown",
   "id": "10a5540b",
   "metadata": {},
   "source": [
    "Count the orders under each status"
   ]
  },
  {
   "cell_type": "code",
   "execution_count": 5,
   "id": "7b295572",
   "metadata": {},
   "outputs": [],
   "source": [
    "map_rdd=orders_rdd.map(lambda x: (x.split(\",\")[3],1))"
   ]
  },
  {
   "cell_type": "code",
   "execution_count": 6,
   "id": "2e56ae23",
   "metadata": {},
   "outputs": [
    {
     "data": {
      "text/plain": [
       "[('CLOSED', 1),\n",
       " ('PENDING_PAYMENT', 1),\n",
       " ('COMPLETE', 1),\n",
       " ('CLOSED', 1),\n",
       " ('COMPLETE', 1),\n",
       " ('COMPLETE', 1),\n",
       " ('COMPLETE', 1),\n",
       " ('PROCESSING', 1),\n",
       " ('PENDING_PAYMENT', 1),\n",
       " ('PENDING_PAYMENT', 1)]"
      ]
     },
     "execution_count": 6,
     "metadata": {},
     "output_type": "execute_result"
    }
   ],
   "source": [
    "map_rdd.take(10)"
   ]
  },
  {
   "cell_type": "code",
   "execution_count": 7,
   "id": "2a74a3c0",
   "metadata": {},
   "outputs": [],
   "source": [
    "reduced_rdd=map_rdd.reduceByKey(lambda x,y :x+y)"
   ]
  },
  {
   "cell_type": "code",
   "execution_count": 8,
   "id": "da3cb5d7",
   "metadata": {},
   "outputs": [
    {
     "data": {
      "text/plain": [
       "[('CLOSED', 7556),\n",
       " ('CANCELED', 1428),\n",
       " ('PENDING_PAYMENT', 15030),\n",
       " ('COMPLETE', 22899),\n",
       " ('PROCESSING', 8275),\n",
       " ('PAYMENT_REVIEW', 729),\n",
       " ('PENDING', 7610),\n",
       " ('ON_HOLD', 3798),\n",
       " ('SUSPECTED_FRAUD', 1558)]"
      ]
     },
     "execution_count": 8,
     "metadata": {},
     "output_type": "execute_result"
    }
   ],
   "source": [
    "reduced_rdd.collect()"
   ]
  },
  {
   "cell_type": "code",
   "execution_count": 9,
   "id": "1d26e40e",
   "metadata": {},
   "outputs": [],
   "source": [
    "reduced_rdd_sorted=reduced_rdd.sortBy(lambda x:x[1],False)"
   ]
  },
  {
   "cell_type": "code",
   "execution_count": 10,
   "id": "3c578b48",
   "metadata": {},
   "outputs": [
    {
     "data": {
      "text/plain": [
       "[('COMPLETE', 22899),\n",
       " ('PENDING_PAYMENT', 15030),\n",
       " ('PROCESSING', 8275),\n",
       " ('PENDING', 7610),\n",
       " ('CLOSED', 7556),\n",
       " ('ON_HOLD', 3798),\n",
       " ('SUSPECTED_FRAUD', 1558),\n",
       " ('CANCELED', 1428),\n",
       " ('PAYMENT_REVIEW', 729)]"
      ]
     },
     "execution_count": 10,
     "metadata": {},
     "output_type": "execute_result"
    }
   ],
   "source": [
    "reduced_rdd_sorted.collect()"
   ]
  },
  {
   "cell_type": "markdown",
   "id": "145c365b",
   "metadata": {},
   "source": [
    "Remove false for the Ascending order"
   ]
  },
  {
   "cell_type": "markdown",
   "id": "0da605d4",
   "metadata": {},
   "source": [
    "Top 20 customers"
   ]
  },
  {
   "cell_type": "code",
   "execution_count": 11,
   "id": "95804bf4",
   "metadata": {},
   "outputs": [],
   "source": [
    "customers_mapped=orders_rdd.map(lambda x: (x.split(\",\")[2],1))"
   ]
  },
  {
   "cell_type": "code",
   "execution_count": 12,
   "id": "e79289cd",
   "metadata": {},
   "outputs": [
    {
     "data": {
      "text/plain": [
       "[('11599', 1), ('256', 1), ('12111', 1), ('8827', 1), ('11318', 1)]"
      ]
     },
     "execution_count": 12,
     "metadata": {},
     "output_type": "execute_result"
    }
   ],
   "source": [
    "customers_mapped.take(5)"
   ]
  },
  {
   "cell_type": "code",
   "execution_count": 13,
   "id": "df60b41b",
   "metadata": {},
   "outputs": [],
   "source": [
    "customers_reduced=customers_mapped.reduceByKey(lambda x,y: x+y)"
   ]
  },
  {
   "cell_type": "code",
   "execution_count": 14,
   "id": "46545eab",
   "metadata": {},
   "outputs": [
    {
     "data": {
      "text/plain": [
       "[('256', 10),\n",
       " ('12111', 6),\n",
       " ('11318', 6),\n",
       " ('7130', 7),\n",
       " ('2911', 6),\n",
       " ('5657', 12),\n",
       " ('9149', 4),\n",
       " ('9842', 7),\n",
       " ('7276', 5),\n",
       " ('9488', 7),\n",
       " ('2711', 3),\n",
       " ('333', 6),\n",
       " ('656', 5),\n",
       " ('6983', 6),\n",
       " ('4189', 3),\n",
       " ('4840', 2),\n",
       " ('5863', 6),\n",
       " ('8214', 5),\n",
       " ('7776', 8),\n",
       " ('1549', 4)]"
      ]
     },
     "execution_count": 14,
     "metadata": {},
     "output_type": "execute_result"
    }
   ],
   "source": [
    "customers_reduced.take(20)"
   ]
  },
  {
   "cell_type": "code",
   "execution_count": 15,
   "id": "c4977bf4",
   "metadata": {},
   "outputs": [],
   "source": [
    "customers_sorted=customers_reduced.sortBy(lambda x:x[1],False)"
   ]
  },
  {
   "cell_type": "code",
   "execution_count": 16,
   "id": "829dfa73",
   "metadata": {},
   "outputs": [
    {
     "data": {
      "text/plain": [
       "[('5897', 16),\n",
       " ('6316', 16),\n",
       " ('12431', 16),\n",
       " ('569', 16),\n",
       " ('4320', 15),\n",
       " ('221', 15),\n",
       " ('5624', 15),\n",
       " ('5283', 15),\n",
       " ('12284', 15),\n",
       " ('5654', 15),\n",
       " ('11689', 14),\n",
       " ('5821', 14),\n",
       " ('791', 14),\n",
       " ('4517', 14),\n",
       " ('3708', 14),\n",
       " ('8652', 14),\n",
       " ('1940', 14),\n",
       " ('10591', 14),\n",
       " ('3710', 14),\n",
       " ('4249', 14)]"
      ]
     },
     "execution_count": 16,
     "metadata": {},
     "output_type": "execute_result"
    }
   ],
   "source": [
    "customers_sorted.take(20)"
   ]
  },
  {
   "cell_type": "markdown",
   "id": "5e86bb70",
   "metadata": {},
   "source": [
    "Distinct count of customers who placed atleast one order"
   ]
  },
  {
   "cell_type": "code",
   "execution_count": 17,
   "id": "74d3ad61",
   "metadata": {},
   "outputs": [],
   "source": [
    "distinct_customers=orders_rdd.map(lambda x: x.split(\",\")[2]).distinct()"
   ]
  },
  {
   "cell_type": "code",
   "execution_count": 18,
   "id": "6025db77",
   "metadata": {},
   "outputs": [
    {
     "data": {
      "text/plain": [
       "12405"
      ]
     },
     "execution_count": 18,
     "metadata": {},
     "output_type": "execute_result"
    }
   ],
   "source": [
    "distinct_customers.count()"
   ]
  },
  {
   "cell_type": "markdown",
   "id": "9ba18665",
   "metadata": {},
   "source": [
    "customers having more number of closed orders"
   ]
  },
  {
   "cell_type": "code",
   "execution_count": 19,
   "id": "cdb9f211",
   "metadata": {},
   "outputs": [],
   "source": [
    "filtered_orders=orders_rdd.filter(lambda x: x.split(\",\")[3] == \"CLOSED\")"
   ]
  },
  {
   "cell_type": "code",
   "execution_count": 20,
   "id": "213e795a",
   "metadata": {},
   "outputs": [
    {
     "data": {
      "text/plain": [
       "['1,2013-07-25 00:00:00.0,11599,CLOSED',\n",
       " '4,2013-07-25 00:00:00.0,8827,CLOSED',\n",
       " '12,2013-07-25 00:00:00.0,1837,CLOSED',\n",
       " '18,2013-07-25 00:00:00.0,1205,CLOSED',\n",
       " '24,2013-07-25 00:00:00.0,11441,CLOSED',\n",
       " '25,2013-07-25 00:00:00.0,9503,CLOSED',\n",
       " '37,2013-07-25 00:00:00.0,5863,CLOSED',\n",
       " '51,2013-07-25 00:00:00.0,12271,CLOSED',\n",
       " '57,2013-07-25 00:00:00.0,7073,CLOSED',\n",
       " '61,2013-07-25 00:00:00.0,4791,CLOSED',\n",
       " '62,2013-07-25 00:00:00.0,9111,CLOSED',\n",
       " '87,2013-07-25 00:00:00.0,3065,CLOSED',\n",
       " '90,2013-07-25 00:00:00.0,9131,CLOSED',\n",
       " '101,2013-07-25 00:00:00.0,5116,CLOSED',\n",
       " '116,2013-07-26 00:00:00.0,8763,CLOSED',\n",
       " '129,2013-07-26 00:00:00.0,9937,CLOSED',\n",
       " '133,2013-07-26 00:00:00.0,10604,CLOSED',\n",
       " '191,2013-07-26 00:00:00.0,16,CLOSED',\n",
       " '201,2013-07-26 00:00:00.0,9055,CLOSED',\n",
       " '211,2013-07-26 00:00:00.0,10372,CLOSED']"
      ]
     },
     "execution_count": 20,
     "metadata": {},
     "output_type": "execute_result"
    }
   ],
   "source": [
    "filtered_orders.take(20)"
   ]
  },
  {
   "cell_type": "code",
   "execution_count": 21,
   "id": "8645b673",
   "metadata": {},
   "outputs": [],
   "source": [
    "filtered_mapped=filtered_orders.map(lambda x: (x.split(\",\")[2],1))"
   ]
  },
  {
   "cell_type": "code",
   "execution_count": 22,
   "id": "b01cbbc0",
   "metadata": {},
   "outputs": [
    {
     "data": {
      "text/plain": [
       "[('11599', 1),\n",
       " ('8827', 1),\n",
       " ('1837', 1),\n",
       " ('1205', 1),\n",
       " ('11441', 1),\n",
       " ('9503', 1),\n",
       " ('5863', 1),\n",
       " ('12271', 1),\n",
       " ('7073', 1),\n",
       " ('4791', 1)]"
      ]
     },
     "execution_count": 22,
     "metadata": {},
     "output_type": "execute_result"
    }
   ],
   "source": [
    "filtered_mapped.take(10)"
   ]
  },
  {
   "cell_type": "code",
   "execution_count": 23,
   "id": "378e7ab2",
   "metadata": {},
   "outputs": [],
   "source": [
    "filtered_aggregated=filtered_mapped.reduceByKey(lambda x,y: x+y)"
   ]
  },
  {
   "cell_type": "code",
   "execution_count": 24,
   "id": "86135ca3",
   "metadata": {},
   "outputs": [
    {
     "data": {
      "text/plain": [
       "[('3159', 1),\n",
       " ('5834', 2),\n",
       " ('10173', 1),\n",
       " ('2101', 1),\n",
       " ('6000', 1),\n",
       " ('1352', 2),\n",
       " ('10142', 1),\n",
       " ('12210', 1),\n",
       " ('6018', 2),\n",
       " ('2252', 1),\n",
       " ('10290', 2),\n",
       " ('9117', 1),\n",
       " ('7600', 2),\n",
       " ('6482', 1),\n",
       " ('9420', 1),\n",
       " ('11673', 3),\n",
       " ('7435', 2),\n",
       " ('7879', 4),\n",
       " ('11153', 3),\n",
       " ('9771', 1)]"
      ]
     },
     "execution_count": 24,
     "metadata": {},
     "output_type": "execute_result"
    }
   ],
   "source": [
    "filtered_aggregated.take(20)"
   ]
  },
  {
   "cell_type": "code",
   "execution_count": 25,
   "id": "aa744d1f",
   "metadata": {},
   "outputs": [],
   "source": [
    " filtered_aggregated_sort=filtered_aggregated.sortBy(lambda x:x[1],False)"
   ]
  },
  {
   "cell_type": "code",
   "execution_count": 26,
   "id": "23bff51c",
   "metadata": {},
   "outputs": [
    {
     "data": {
      "text/plain": [
       "[('1833', 6),\n",
       " ('1363', 5),\n",
       " ('1687', 5),\n",
       " ('5493', 5),\n",
       " ('5011', 4),\n",
       " ('8974', 4),\n",
       " ('2321', 4),\n",
       " ('3736', 4),\n",
       " ('8368', 4),\n",
       " ('2236', 4),\n",
       " ('2403', 4),\n",
       " ('7879', 4),\n",
       " ('1764', 4),\n",
       " ('4588', 4),\n",
       " ('7948', 4),\n",
       " ('7850', 4),\n",
       " ('145', 4),\n",
       " ('4282', 4),\n",
       " ('9213', 4),\n",
       " ('3631', 4)]"
      ]
     },
     "execution_count": 26,
     "metadata": {},
     "output_type": "execute_result"
    }
   ],
   "source": [
    "filtered_aggregated_sort.take(20)"
   ]
  },
  {
   "cell_type": "code",
   "execution_count": null,
   "id": "f46b6d31",
   "metadata": {},
   "outputs": [],
   "source": []
  }
 ],
 "metadata": {
  "kernelspec": {
   "display_name": "Pyspark 3",
   "language": "python",
   "name": "pyspark3"
  },
  "language_info": {
   "codemirror_mode": {
    "name": "ipython",
    "version": 3
   },
   "file_extension": ".py",
   "mimetype": "text/x-python",
   "name": "python",
   "nbconvert_exporter": "python",
   "pygments_lexer": "ipython3",
   "version": "3.6.12"
  }
 },
 "nbformat": 4,
 "nbformat_minor": 5
}
